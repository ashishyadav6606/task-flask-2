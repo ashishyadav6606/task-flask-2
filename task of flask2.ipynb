{
 "cells": [
  {
   "cell_type": "code",
   "execution_count": null,
   "id": "70651ebb",
   "metadata": {},
   "outputs": [],
   "source": [
    "# Ans no 01.\n",
    "#Get and Post methods are the HTTP request methods used inside the <form> tag to send form data to the server. HTTP protocol enables the communication between the client and the server where a browser can be the client, and an application running on a computer system that hosts your website can be the server."
   ]
  },
  {
   "cell_type": "code",
   "execution_count": null,
   "id": "6b5e5f75",
   "metadata": {},
   "outputs": [],
   "source": [
    "#Ans no 02\n",
    "#The Request, in Flask, is an object that contains all the data sent from the Client to Server. This data can be recovered using the GET/POST Methods"
   ]
  },
  {
   "cell_type": "code",
   "execution_count": null,
   "id": "c395f249",
   "metadata": {},
   "outputs": [],
   "source": [
    "#Ans no 03.\n",
    "# The Solution. Redirection in Flask can be done by returning a redirect response object, created by invoking the redirect() function. The same method is used for redirecting to other routes on the same application and external websites."
   ]
  },
  {
   "cell_type": "code",
   "execution_count": null,
   "id": "4ee63c83",
   "metadata": {},
   "outputs": [],
   "source": [
    "# Ans no 04.\n",
    "# Templates are files that contain static data as well as placeholders for dynamic data. A template is rendered with specific data to produce a final document. Flask uses the Jinja template library to render templates. In your application, you will use templates to render HTML which will display in the user's browser.\n",
    "# Flask provides us the render_template() function which can be used to render the external HTML file to be returned as the response from the view function."
   ]
  },
  {
   "cell_type": "code",
   "execution_count": null,
   "id": "b408e1dc",
   "metadata": {},
   "outputs": [],
   "source": [
    "#Ans no 05.\n",
    "\n",
    "from flask import Flask , render_template,request,jsonify \n",
    "\n",
    "app = Flask(__name__)\n",
    "\n",
    "@app.route('/postman_action',methods=['POST'])\n",
    "def math_ops1():\n",
    "    if(request.method == 'POST'):\n",
    "        ops = request.json['operation']\n",
    "        num1 = int(request.json['num1'])\n",
    "        num2 = int(request.json['num2'])\n",
    "        if ops == 'add':\n",
    "            r = num1+num2\n",
    "            result = \"The sum of \" + str(num1) + 'and ' + str(num2) + \"is \" + str(r)\n",
    "        if ops == 'subtract':\n",
    "            r = num1-num2\n",
    "            result = \"The subtract of \" + str(num1) + 'and ' + str(num2) + \"is \" + str(r)\n",
    "        if ops == 'multiply':\n",
    "            r = num1*num2\n",
    "            result = \"The multiply of \" + str(num1) + 'and ' + str(num2) + \"is \" + str(r)\n",
    "        if ops == 'divide':\n",
    "            r = num1/num2\n",
    "            result = \"The divide of \" + str(num1) + 'and ' + str(num2) + \"is \" + str(r)\n",
    "            \n",
    "        return jsonify(result)\n",
    "if __name__==\"__main__\":\n",
    "    app.run(host=\"0.0.0.0\")        \n"
   ]
  }
 ],
 "metadata": {
  "kernelspec": {
   "display_name": "Python 3 (ipykernel)",
   "language": "python",
   "name": "python3"
  },
  "language_info": {
   "codemirror_mode": {
    "name": "ipython",
    "version": 3
   },
   "file_extension": ".py",
   "mimetype": "text/x-python",
   "name": "python",
   "nbconvert_exporter": "python",
   "pygments_lexer": "ipython3",
   "version": "3.11.1"
  }
 },
 "nbformat": 4,
 "nbformat_minor": 5
}
